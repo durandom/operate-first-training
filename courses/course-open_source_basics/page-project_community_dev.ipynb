{
 "cells": [
  {
   "cell_type": "markdown",
   "metadata": {},
   "source": [
    "## Open source project and community development\n",
    "\n",
    "Read through this walkthrough of how an open source project goes from an idea to fully realized open source community."
   ]
  },
  {
   "cell_type": "markdown",
   "metadata": {},
   "source": [
    "An individual, group, or enterprise creates software that solves a problem.\n"
   ]
  },
  {
   "cell_type": "markdown",
   "metadata": {},
   "source": [
    "These creators decide they would like to invite other people to collaborate on improving that software—including people who are not part of their team or organization. They make the source code for their software accessible, and they attach an open source license that specifies the rules for modifying and sharing it with others."
   ]
  },
  {
   "cell_type": "markdown",
   "metadata": {},
   "source": [
    "Other people access and use the software. Some adapt it for their own purposes. They share these modifications with the software's creators, who determine whether to incorporate the modifications into the original software codebase."
   ]
  },
  {
   "cell_type": "markdown",
   "metadata": {},
   "source": [
    "More collaborators join the effort to improve the software. The group develops its own infrastructure of participation (communication channels, technical platforms, and governance models) so even more contributors can join their work. The software becomes a community project."
   ]
  },
  {
   "cell_type": "markdown",
   "metadata": {},
   "source": [
    "The software matures. It works reliably enough that people begin depending on it. Even people who are not programmers start using it."
   ]
  },
  {
   "cell_type": "markdown",
   "metadata": {},
   "source": [
    "The software becomes more popular. People using the software rely on the project community for help maintaining it and supporting their use of it."
   ]
  },
  {
   "cell_type": "markdown",
   "metadata": {},
   "source": [
    "The community releases new versions of the software when they are ready for general consumption. These new versions incorporate feedback and modifications from users and programmers."
   ]
  },
  {
   "cell_type": "markdown",
   "metadata": {},
   "source": [
    "The software matures to the point at which maintainers seek a more sustainable financial model for supporting it. The software becomes the basis of new developments and innovations."
   ]
  },
  {
   "cell_type": "code",
   "execution_count": null,
   "metadata": {},
   "outputs": [],
   "source": []
  }
 ],
 "metadata": {
  "kernelspec": {
   "display_name": "Python 3 (ipykernel)",
   "language": "python",
   "name": "python3"
  },
  "language_info": {
   "codemirror_mode": {
    "name": "ipython",
    "version": 3
   },
   "file_extension": ".py",
   "mimetype": "text/x-python",
   "name": "python",
   "nbconvert_exporter": "python",
   "pygments_lexer": "ipython3",
   "version": "3.9.10"
  },
  "widgets": {
   "application/vnd.jupyter.widget-state+json": {
    "state": {},
    "version_major": 2,
    "version_minor": 0
   }
  }
 },
 "nbformat": 4,
 "nbformat_minor": 4
}
